{
 "cells": [
  {
   "cell_type": "markdown",
   "metadata": {},
   "source": [
    "# Introduksjon \n",
    "Denne notebook'en gir en introduksjon til grafer og bredde-først søk. Presentasjonen av algoritmene er inspirert av [Red Blob Games: Introduction to the A* algorithm](https://www.redblobgames.com/pathfinding/a-star/introduction.html)\n",
    "\n",
    "Oppgavene som hører til dette temaet er oppgitt nederst i denne notebook'en. Oppgavene består i å implementere funksjonene som allerede er definert i fila graph_search.py. \n",
    "\n",
    "Søkealgoritmer for grafer er veldig generelle og kan brukes i mange sammenhenger, men i denne introduksjonen skal vi for det meste bruke dem til å finne veier gjennom et 2-dimensjonalt rutenett. Prøv likevel å huske at algoritmene har mange bruksområder utenom dette.\n",
    "\n",
    "La oss importere noen moduler som skal hjelpe oss på veien (i tilfelle du får feilmeldinger, se kommentarer under):"
   ]
  },
  {
   "cell_type": "code",
   "execution_count": 1,
   "metadata": {},
   "outputs": [],
   "source": [
    "import numpy as np\n",
    "import matplotlib.pyplot as plt\n",
    "import graph_tools as gt  # See graph_tools.py in repository\n",
    "import graph_search_solution as gs\n",
    "import graphviz"
   ]
  },
  {
   "cell_type": "markdown",
   "metadata": {},
   "source": [
    "## Moduler:\n",
    "- Numpy brukes gjerne i Python når man skal behandle \"arrays\" av ulike typer. Vi skal representere vårt rutenett som et 2D array.\n",
    "- Matplotlib brukes for å plotte både grafer og bilder.\n",
    "- graph_tools er en samling ferdig implementert \"helpekode\" for å lese og visualisere stoffet vi jobber med.\n",
    "- graph_search_solution er en ferdig implementasjon av funksjonene som skal implementeres i innlevering 3. Når dere har laget deres egen implementasjon kan dere kjøre denne notebook'en og se hvordan koden deres fungerer på eksemplene under.  \n",
    "- graphviz for python består egentlig av 2 deler; et generelt program som installeres og en python-modul for interaksjon med programmet. Det er imidertid mulig å installere begge deler med Conda (ikke pip): conda install graphviz  Hvis dette ikke fungerer kan du prøve å følge [instruksjonene for installasjon via pip](https://pypi.org/project/graphviz/).  Hvis du ikke får noe av dette til å fungere: Det er ikke så farlig. Kommenter ut / hopp over kodeceller som bruker graphviz, og gå videre. \n",
    "\n",
    "## Importere eksempel-rutenett\n",
    "Koden i cellene under leser inn ei fil med et eksempel-rutenett og visualiserer den på flere ulike måter. I tekst-form representerer \"#\" vegger og \".\" åpne ruter (ganger). Når dette konverteres til en matrise, er veggene representert med 0 og gangene representert med 1. Når man viser matrisen som et bilde, er veggene mørkeblå og gangene gule."
   ]
  },
  {
   "cell_type": "code",
   "execution_count": 2,
   "metadata": {},
   "outputs": [
    {
     "name": "stdout",
     "output_type": "stream",
     "text": [
      "##########\n",
      "#..#...#.#\n",
      "#.##.#...#\n",
      "#.#....#.#\n",
      "#....#...#\n",
      "#.#..#.###\n",
      "###.##.#.#\n",
      "#.#.#....#\n",
      "#.....#..#\n",
      "##########\n"
     ]
    }
   ],
   "source": [
    "# Read maze text from file and print each line\n",
    "maze_text = gt.read_maze_text('mazes/maze_10x10.txt')\n",
    "for line in maze_text: print(line)"
   ]
  },
  {
   "cell_type": "code",
   "execution_count": 3,
   "metadata": {},
   "outputs": [
    {
     "name": "stdout",
     "output_type": "stream",
     "text": [
      "[[0 0 0 0 0 0 0 0 0 0]\n",
      " [0 1 1 0 1 1 1 0 1 0]\n",
      " [0 1 0 0 1 0 1 1 1 0]\n",
      " [0 1 0 1 1 1 1 0 1 0]\n",
      " [0 1 1 1 1 0 1 1 1 0]\n",
      " [0 1 0 1 1 0 1 0 0 0]\n",
      " [0 0 0 1 0 0 1 0 1 0]\n",
      " [0 1 0 1 0 1 1 1 1 0]\n",
      " [0 1 1 1 1 1 0 1 1 0]\n",
      " [0 0 0 0 0 0 0 0 0 0]]\n"
     ]
    }
   ],
   "source": [
    "# Convert the maze text to a matrix\n",
    "grid = gt.maze_text_to_matrix(maze_text)\n",
    "print(grid)"
   ]
  },
  {
   "cell_type": "code",
   "execution_count": 4,
   "metadata": {},
   "outputs": [
    {
     "data": {
      "image/png": "[encoded data removed]",
      "text/plain": [
       "<Figure size 640x480 with 1 Axes>"
      ]
     },
     "metadata": {},
     "output_type": "display_data"
    }
   ],
   "source": [
    "# Show the matrix as an image and add an example start point\n",
    "plt.imshow(grid)\n",
    "plt.scatter(x=2,y=1,s=30)  \n",
    "plt.show()"
   ]
  },
  {
   "cell_type": "markdown",
   "metadata": {},
   "source": [
    "Legg merke til koordinatsystemet langs kantene av bildet. Koordinatene er heltall, og følger samme system som i matrisenotasjon/bildebehandling - man oppgir først radnummer (fra toppen) og deretter kolonnenummer (fra venstre). For eksempel ligger prikken på bildet i koordinat (1,2), dvs. rad 1 og kolonne 2. Merk at dette tilsvarer rekkefølgen (y,x) og IKKE (x,y), hvis man lar x representere horisontal posisjon og y representere vertikal posisjon. "
   ]
  },
  {
   "cell_type": "markdown",
   "metadata": {},
   "source": [
    "# Ulike representasjoner av grafer\n",
    "## Rutenett\n",
    "Før vi beskriver selve søkealgoritmene må vi se litt nærmere på hvordan vi kan beskrive rutenettet vårt som en graf. Vi begynner med et veldig lite rutenett for å holde grafen oversiktelig. Vi plotter også et startpunkt og viser hvilke retninger vi kan bevege oss i fra startpunktet.  "
   ]
  },
  {
   "cell_type": "code",
   "execution_count": 5,
   "metadata": {},
   "outputs": [
    {
     "data": {
      "image/png": "[encoded data removed]",
      "text/plain": [
       "<Figure size 640x480 with 1 Axes>"
      ]
     },
     "metadata": {},
     "output_type": "display_data"
    }
   ],
   "source": [
    "maze_text = gt.read_maze_text('mazes/maze_3way.txt')\n",
    "_ = plt.imshow(gt.maze_text_to_matrix(maze_text))\n",
    "_ = plt.scatter(y=1,x=3,s=100)\n",
    "gt.plot_maze_edges({(1,3):[(1,2),(2,3),(1,4)]})"
   ]
  },
  {
   "cell_type": "markdown",
   "metadata": {},
   "source": [
    "We kan tenke på hver gule piksel som en \"node\" i en graf. Hver slik node kan har opp til 4 nabonoder (venstre, høyre, opp, ned). Hvis en node har en nabo, betyr det at vi kan forflytte oss til den. I grafen over kan vi for eksempel forflytte oss fra punktet (1,3) nedover til (2,3). Vi sier at det går en \"kant\" (dvs. en mulig overgang) mellom nabonodene."
   ]
  },
  {
   "cell_type": "markdown",
   "metadata": {},
   "source": [
    "## Adjacency list\n",
    "I denne presentasjonen, og i oppgavene som dere skal gjøre, vil vi bruke en \"dictionary\" for å holde oversikt over nodene og kantene i grafen. Hver node er representert med sine koordinater som nøkler, og den tilsvarende verdien er en liste med koordinatene til alle nabo-nodene. Dette er et eksempel på en såkalt \"adjacency list\". Vi bruker funksjonen parse_maze_text() for å fylle inn en slik liste for grafen. "
   ]
  },
  {
   "cell_type": "code",
   "execution_count": 6,
   "metadata": {},
   "outputs": [
    {
     "name": "stdout",
     "output_type": "stream",
     "text": [
      "(1, 1): [(2, 1), (1, 2)]\n",
      "(1, 2): [(1, 1), (1, 3)]\n",
      "(1, 3): [(1, 2), (2, 3), (1, 4)]\n",
      "(1, 4): [(1, 3), (1, 5)]\n",
      "(1, 5): [(1, 4), (2, 5)]\n",
      "(2, 1): [(1, 1)]\n",
      "(2, 3): [(3, 3), (1, 3)]\n",
      "(2, 5): [(1, 5)]\n",
      "(3, 3): [(3, 4), (2, 3)]\n",
      "(3, 4): [(3, 3)]\n"
     ]
    }
   ],
   "source": [
    "graph = gt.maze_text_to_graph(gt.read_maze_text('mazes/maze_3way.txt'))\n",
    "for node, neighbors in graph.items():\n",
    "    print(f'{node}: {neighbors}')"
   ]
  },
  {
   "cell_type": "markdown",
   "metadata": {},
   "source": [
    "Legg merke til at startpunktet i piksel (1,3) har tre naboer, mange av nodene har to naboer, og de tre \"blindveiene\" har bare en nabo. "
   ]
  },
  {
   "cell_type": "markdown",
   "metadata": {},
   "source": [
    "## Ellipser og streker\n",
    "La oss ta oss tid til å visualisere grafen på en nok en måte, der nodene er vist som ellipser og kantene er vist som streker mellom nodene. Denne måter er antakelig den vanligste måten å vise grafer på, men den blir fort uoversiktelig hvis antallet noder blir mer enn 20-30. \n",
    "\n",
    "OBS: Funksjonen dict_to_dot() under bruker Graphviz for å generere visualiseringer av grafer. Hvis du ikke får til å installere graphviz: Kommenter ut / hopp over koden og gå videre. "
   ]
  },
  {
   "cell_type": "code",
   "execution_count": 7,
   "metadata": {},
   "outputs": [],
   "source": [
    "def dict_to_dot(adj_dict, directed=False):\n",
    "    \"\"\" Create graphviz graph based on adjancency list (dictionary) \n",
    "    \n",
    "    # Input parameters:\n",
    "    adj_dict     - Adjacency list as dictionary\n",
    "                   key = node name\n",
    "                   value = iterable with neighbor node names\n",
    "    directed     - Boolean, True for directed graph, False for undirected.\n",
    "    \n",
    "    # Returns:\n",
    "    graph_dot    - Graphviz graph object (Graph or Digraph)\n",
    "    \n",
    "    \"\"\" \n",
    "    \n",
    "    if directed:\n",
    "        graph_dot = graphviz.Digraph(strict=True)\n",
    "    else:\n",
    "        graph_dot = graphviz.Graph(strict=True)\n",
    "    \n",
    "    for from_vertex in adj_dict.keys():\n",
    "        for to_vertex in adj_dict[from_vertex]:           # Assume dict of iterables\n",
    "            graph_dot.edge(tail_name = str(from_vertex),\n",
    "                        head_name = str(to_vertex))\n",
    "    \n",
    "    return graph_dot"
   ]
  },
  {
   "cell_type": "code",
   "execution_count": 8,
   "metadata": {},
   "outputs": [
    {
     "data": {
      "image/svg+xml": [
       "<?xml version=\"1.0\" encoding=\"UTF-8\" standalone=\"no\"?>\n",
       "<!DOCTYPE svg PUBLIC \"-//W3C//DTD SVG 1.1//EN\"\n",
       " \"http://www.w3.org/Graphics/SVG/1.1/DTD/svg11.dtd\">\n",
       "<!-- Generated by graphviz version 2.50.0 (0)\n",
       " -->\n",
       "<!-- Pages: 1 -->\n",
       "<svg width=\"188pt\" height=\"404pt\"\n",
       " viewBox=\"0.00 0.00 188.09 404.00\" xmlns=\"http://www.w3.org/2000/svg\" xmlns:xlink=\"http://www.w3.org/1999/xlink\">\n",
       "<g id=\"graph0\" class=\"graph\" transform=\"scale(1 1) rotate(0) translate(4 400)\">\n",
       "<polygon fill=\"white\" stroke=\"transparent\" points=\"-4,4 -4,-400 184.09,-400 184.09,4 -4,4\"/>\n",
       "<!-- (1, 1) -->\n",
       "<g id=\"node1\" class=\"node\">\n",
       "<title>(1, 1)</title>\n",
       "<ellipse fill=\"none\" stroke=\"black\" cx=\"69.55\" cy=\"-378\" rx=\"30.59\" ry=\"18\"/>\n",
       "<text text-anchor=\"middle\" x=\"69.55\" y=\"-374.3\" font-family=\"Times New Roman,serif\" font-size=\"14.00\">(1, 1)</text>\n",
       "</g>\n",
       "<!-- (2, 1) -->\n",
       "<g id=\"node2\" class=\"node\">\n",
       "<title>(2, 1)</title>\n",
       "<ellipse fill=\"none\" stroke=\"black\" cx=\"30.55\" cy=\"-306\" rx=\"30.59\" ry=\"18\"/>\n",
       "<text text-anchor=\"middle\" x=\"30.55\" y=\"-302.3\" font-family=\"Times New Roman,serif\" font-size=\"14.00\">(2, 1)</text>\n",
       "</g>\n",
       "<!-- (1, 1)&#45;&#45;(2, 1) -->\n",
       "<g id=\"edge1\" class=\"edge\">\n",
       "<title>(1, 1)&#45;&#45;(2, 1)</title>\n",
       "<path fill=\"none\" stroke=\"black\" d=\"M60.5,-360.76C54.29,-349.62 46.07,-334.87 39.81,-323.63\"/>\n",
       "</g>\n",
       "<!-- (1, 2) -->\n",
       "<g id=\"node3\" class=\"node\">\n",
       "<title>(1, 2)</title>\n",
       "<ellipse fill=\"none\" stroke=\"black\" cx=\"109.55\" cy=\"-306\" rx=\"30.59\" ry=\"18\"/>\n",
       "<text text-anchor=\"middle\" x=\"109.55\" y=\"-302.3\" font-family=\"Times New Roman,serif\" font-size=\"14.00\">(1, 2)</text>\n",
       "</g>\n",
       "<!-- (1, 1)&#45;&#45;(1, 2) -->\n",
       "<g id=\"edge2\" class=\"edge\">\n",
       "<title>(1, 1)&#45;&#45;(1, 2)</title>\n",
       "<path fill=\"none\" stroke=\"black\" d=\"M78.82,-360.76C85.19,-349.62 93.62,-334.87 100.04,-323.63\"/>\n",
       "</g>\n",
       "<!-- (1, 3) -->\n",
       "<g id=\"node4\" class=\"node\">\n",
       "<title>(1, 3)</title>\n",
       "<ellipse fill=\"none\" stroke=\"black\" cx=\"109.55\" cy=\"-234\" rx=\"30.59\" ry=\"18\"/>\n",
       "<text text-anchor=\"middle\" x=\"109.55\" y=\"-230.3\" font-family=\"Times New Roman,serif\" font-size=\"14.00\">(1, 3)</text>\n",
       "</g>\n",
       "<!-- (1, 2)&#45;&#45;(1, 3) -->\n",
       "<g id=\"edge3\" class=\"edge\">\n",
       "<title>(1, 2)&#45;&#45;(1, 3)</title>\n",
       "<path fill=\"none\" stroke=\"black\" d=\"M109.55,-287.7C109.55,-276.85 109.55,-262.92 109.55,-252.1\"/>\n",
       "</g>\n",
       "<!-- (2, 3) -->\n",
       "<g id=\"node5\" class=\"node\">\n",
       "<title>(2, 3)</title>\n",
       "<ellipse fill=\"none\" stroke=\"black\" cx=\"70.55\" cy=\"-162\" rx=\"30.59\" ry=\"18\"/>\n",
       "<text text-anchor=\"middle\" x=\"70.55\" y=\"-158.3\" font-family=\"Times New Roman,serif\" font-size=\"14.00\">(2, 3)</text>\n",
       "</g>\n",
       "<!-- (1, 3)&#45;&#45;(2, 3) -->\n",
       "<g id=\"edge4\" class=\"edge\">\n",
       "<title>(1, 3)&#45;&#45;(2, 3)</title>\n",
       "<path fill=\"none\" stroke=\"black\" d=\"M100.5,-216.76C94.29,-205.62 86.07,-190.87 79.81,-179.63\"/>\n",
       "</g>\n",
       "<!-- (1, 4) -->\n",
       "<g id=\"node6\" class=\"node\">\n",
       "<title>(1, 4)</title>\n",
       "<ellipse fill=\"none\" stroke=\"black\" cx=\"149.55\" cy=\"-162\" rx=\"30.59\" ry=\"18\"/>\n",
       "<text text-anchor=\"middle\" x=\"149.55\" y=\"-158.3\" font-family=\"Times New Roman,serif\" font-size=\"14.00\">(1, 4)</text>\n",
       "</g>\n",
       "<!-- (1, 3)&#45;&#45;(1, 4) -->\n",
       "<g id=\"edge5\" class=\"edge\">\n",
       "<title>(1, 3)&#45;&#45;(1, 4)</title>\n",
       "<path fill=\"none\" stroke=\"black\" d=\"M118.82,-216.76C125.19,-205.62 133.62,-190.87 140.04,-179.63\"/>\n",
       "</g>\n",
       "<!-- (3, 3) -->\n",
       "<g id=\"node9\" class=\"node\">\n",
       "<title>(3, 3)</title>\n",
       "<ellipse fill=\"none\" stroke=\"black\" cx=\"70.55\" cy=\"-90\" rx=\"30.59\" ry=\"18\"/>\n",
       "<text text-anchor=\"middle\" x=\"70.55\" y=\"-86.3\" font-family=\"Times New Roman,serif\" font-size=\"14.00\">(3, 3)</text>\n",
       "</g>\n",
       "<!-- (2, 3)&#45;&#45;(3, 3) -->\n",
       "<g id=\"edge8\" class=\"edge\">\n",
       "<title>(2, 3)&#45;&#45;(3, 3)</title>\n",
       "<path fill=\"none\" stroke=\"black\" d=\"M70.55,-143.7C70.55,-132.85 70.55,-118.92 70.55,-108.1\"/>\n",
       "</g>\n",
       "<!-- (1, 5) -->\n",
       "<g id=\"node7\" class=\"node\">\n",
       "<title>(1, 5)</title>\n",
       "<ellipse fill=\"none\" stroke=\"black\" cx=\"149.55\" cy=\"-90\" rx=\"30.59\" ry=\"18\"/>\n",
       "<text text-anchor=\"middle\" x=\"149.55\" y=\"-86.3\" font-family=\"Times New Roman,serif\" font-size=\"14.00\">(1, 5)</text>\n",
       "</g>\n",
       "<!-- (1, 4)&#45;&#45;(1, 5) -->\n",
       "<g id=\"edge6\" class=\"edge\">\n",
       "<title>(1, 4)&#45;&#45;(1, 5)</title>\n",
       "<path fill=\"none\" stroke=\"black\" d=\"M149.55,-143.7C149.55,-132.85 149.55,-118.92 149.55,-108.1\"/>\n",
       "</g>\n",
       "<!-- (2, 5) -->\n",
       "<g id=\"node8\" class=\"node\">\n",
       "<title>(2, 5)</title>\n",
       "<ellipse fill=\"none\" stroke=\"black\" cx=\"149.55\" cy=\"-18\" rx=\"30.59\" ry=\"18\"/>\n",
       "<text text-anchor=\"middle\" x=\"149.55\" y=\"-14.3\" font-family=\"Times New Roman,serif\" font-size=\"14.00\">(2, 5)</text>\n",
       "</g>\n",
       "<!-- (1, 5)&#45;&#45;(2, 5) -->\n",
       "<g id=\"edge7\" class=\"edge\">\n",
       "<title>(1, 5)&#45;&#45;(2, 5)</title>\n",
       "<path fill=\"none\" stroke=\"black\" d=\"M149.55,-71.7C149.55,-60.85 149.55,-46.92 149.55,-36.1\"/>\n",
       "</g>\n",
       "<!-- (3, 4) -->\n",
       "<g id=\"node10\" class=\"node\">\n",
       "<title>(3, 4)</title>\n",
       "<ellipse fill=\"none\" stroke=\"black\" cx=\"70.55\" cy=\"-18\" rx=\"30.59\" ry=\"18\"/>\n",
       "<text text-anchor=\"middle\" x=\"70.55\" y=\"-14.3\" font-family=\"Times New Roman,serif\" font-size=\"14.00\">(3, 4)</text>\n",
       "</g>\n",
       "<!-- (3, 3)&#45;&#45;(3, 4) -->\n",
       "<g id=\"edge9\" class=\"edge\">\n",
       "<title>(3, 3)&#45;&#45;(3, 4)</title>\n",
       "<path fill=\"none\" stroke=\"black\" d=\"M70.55,-71.7C70.55,-60.85 70.55,-46.92 70.55,-36.1\"/>\n",
       "</g>\n",
       "</g>\n",
       "</svg>\n"
      ],
      "text/plain": [
       "<graphviz.graphs.Graph at 0x1846ba19c60>"
      ]
     },
     "execution_count": 8,
     "metadata": {},
     "output_type": "execute_result"
    }
   ],
   "source": [
    "graph_dot = dict_to_dot(graph)\n",
    "graph_dot"
   ]
  },
  {
   "cell_type": "markdown",
   "metadata": {},
   "source": [
    "Ta gjerne en liten stopp og sjekk av du skjønner sammenhengen mellom de tre måtene den samme grafen er vist på her; som et bilde med piksler, som en liste med nabonober, og som en tegning med ellipser og streker. "
   ]
  },
  {
   "cell_type": "markdown",
   "metadata": {},
   "source": [
    "# Bredde-først traversering\n",
    "Nå kan vi (omsider!) begynne å beskrive algoritmene for å søke gjennom rutenettene / grafene. Vi begynner med bredde-først _traversering_. Med traversering mener vi at algoritmen skal besøke _alle_ nodene i hele grafen. Vi skal se senere at når vi _søker_ i grafen (leter etter en spesifikk node) trenger vi ikke besøke alle nodene. Men først, altså - traversering. Pseudokoden under beskriver algoritmen som skal brukes (og som dere skal implementere). \n",
    "\n",
    "    breadth_first_traverse(graph,start_node):\n",
    "        let frontier equal a new queue\n",
    "        let came_from equal a new dict\n",
    "        \n",
    "        enqueue start_node to frontier\n",
    "        set came_from for start_node to None\n",
    "        \n",
    "        while frontier is not empty:\n",
    "            dequeue a node from frontier and let it equal current_node\n",
    "            for every neighbor of current_node in graph:\n",
    "                if the neighbor has not been discovered (not yet present in came_from):\n",
    "                    enqueue the neighbor to frontier\n",
    "                    update came_from: set neighbor as key and current_node as value\n",
    "        \n",
    "        return came_from\n",
    "\n",
    "I denne koden brukes en kø for å ta vare på alle noder som er \"oppdaget\" (dvs. de er naboer til en node som man har \"besøkt\"). Nodene behandles/\"besøkes\" i samme rekkefølge som de ble lagt inn i køen (first-in-first-out). Datastrukturen came_from har to funksjoner:\n",
    "    - Den forteller hvilken rekkefølge nodene ble \"oppdaget\" i. Hvis node B oppdages fra node A, settes came_from[B] = A.\n",
    "    - Den gir også en oversikt over hvilke noder som har blitt oppdaget (alle oppdagede noder har en key i came_from).\n",
    "\n",
    "Merk at noen av detaljene i algoritmen kan endres uten at sluttresultatet endres. Man kan for eksempel bruke objekter for å representere hver node. I pseudokoden over har vi prøvd å bruke enkle datastrukturer (list / dict). \n",
    "\n",
    "I kodecellen under bruker vi en ferdig implementation av breadth_first_traverse() for å traversere en enkel graf. Vi henter også ut rekkefølgen som nodene ble lagt inn med (i came_from), og plotter disse på grafen."
   ]
  },
  {
   "cell_type": "code",
   "execution_count": 9,
   "metadata": {},
   "outputs": [
    {
     "data": {
      "image/png": "[encoded data removed]",
      "text/plain": [
       "<Figure size 640x480 with 1 Axes>"
      ]
     },
     "metadata": {},
     "output_type": "display_data"
    }
   ],
   "source": [
    "maze_text = gt.read_maze_text('mazes/maze_3way.txt')\n",
    "graph = gt.maze_text_to_graph(maze_text)\n",
    "came_from = gs.breadth_first_traverse(graph,(1,3))\n",
    "plt.imshow(gt.maze_text_to_matrix(maze_text))\n",
    "plt.scatter(y=1,x=3,s=100)\n",
    "for i,node in enumerate(came_from.keys()):\n",
    "    y,x = node\n",
    "    plt.text(s=int(i),y=y,x=x)\n",
    "plt.show()"
   ]
  },
  {
   "cell_type": "markdown",
   "metadata": {},
   "source": [
    "I grafen over kan man se at de tre naboene til startnoden ble \"besøkt\" først (nummmer 0,1,2). Deretter ble alle nodene som er to steg unna startnoden besøkt (3,4 og 5), og til slutt ble nodene som er tre steg unna besøkt (6,7 og 8). Dette mønsteret, der man besøker alle noder innen en viss rekkevidde før man beveger seg lengre unna startnoen, er grunnen til at algoritmen kalles \"bredde først\"."
   ]
  },
  {
   "cell_type": "markdown",
   "metadata": {},
   "source": [
    "\n",
    "Vi kan gjøre det samme med en større og mer kompleks graf, der vi starter i node (4,4):"
   ]
  },
  {
   "cell_type": "code",
   "execution_count": 10,
   "metadata": {},
   "outputs": [
    {
     "data": {
      "image/png": "[encoded data removed]",
      "text/plain": [
       "<Figure size 640x480 with 1 Axes>"
      ]
     },
     "metadata": {},
     "output_type": "display_data"
    }
   ],
   "source": [
    "maze_text = gt.read_maze_text('mazes/maze_10x10.txt')\n",
    "graph = gt.maze_text_to_graph(maze_text)\n",
    "came_from = gs.breadth_first_traverse(graph,(4,4))\n",
    "plt.imshow(gt.maze_text_to_matrix(maze_text))\n",
    "plt.scatter(y=4,x=4,s=100)\n",
    "for i,node in enumerate(came_from.keys()):\n",
    "    y,x = node\n",
    "    plt.text(s=int(i),y=y,x=x)\n",
    "plt.show()"
   ]
  },
  {
   "cell_type": "markdown",
   "metadata": {},
   "source": [
    "Legg merke til det samme \"bredde-først\"-mønsteret. \n",
    "\n",
    "Informasjonen in came_from forteller oss hvilke noder som måtte \"oppdages\" på veien fram til en gitt node. La oss for eksempel ta noden (2,7), som har nummer 22 i grafen over, og nøste oss bakover:"
   ]
  },
  {
   "cell_type": "code",
   "execution_count": 11,
   "metadata": {},
   "outputs": [
    {
     "data": {
      "text/plain": [
       "(2, 6)"
      ]
     },
     "execution_count": 11,
     "metadata": {},
     "output_type": "execute_result"
    }
   ],
   "source": [
    "came_from[(2,7)]"
   ]
  },
  {
   "cell_type": "markdown",
   "metadata": {},
   "source": [
    "Node (2,7) ble altså \"oppdaget\" fra node (2,6). Og fra hvilken node ble (2,6) oppdaget?"
   ]
  },
  {
   "cell_type": "code",
   "execution_count": 12,
   "metadata": {},
   "outputs": [
    {
     "data": {
      "text/plain": [
       "(3, 6)"
      ]
     },
     "execution_count": 12,
     "metadata": {},
     "output_type": "execute_result"
    }
   ],
   "source": [
    "came_from[(2,6)]"
   ]
  },
  {
   "cell_type": "markdown",
   "metadata": {},
   "source": [
    "Vi fortsetter og ser hvor langt vi kommer:"
   ]
  },
  {
   "cell_type": "code",
   "execution_count": 13,
   "metadata": {},
   "outputs": [
    {
     "data": {
      "text/plain": [
       "(3, 5)"
      ]
     },
     "execution_count": 13,
     "metadata": {},
     "output_type": "execute_result"
    }
   ],
   "source": [
    "came_from[(3,6)]"
   ]
  },
  {
   "cell_type": "code",
   "execution_count": 14,
   "metadata": {},
   "outputs": [
    {
     "data": {
      "text/plain": [
       "(3, 4)"
      ]
     },
     "execution_count": 14,
     "metadata": {},
     "output_type": "execute_result"
    }
   ],
   "source": [
    "came_from[(3,5)]"
   ]
  },
  {
   "cell_type": "code",
   "execution_count": 15,
   "metadata": {},
   "outputs": [
    {
     "data": {
      "text/plain": [
       "(4, 4)"
      ]
     },
     "execution_count": 15,
     "metadata": {},
     "output_type": "execute_result"
    }
   ],
   "source": [
    "came_from[(3,4)]"
   ]
  },
  {
   "cell_type": "code",
   "execution_count": 16,
   "metadata": {},
   "outputs": [],
   "source": [
    "came_from[(4,4)]  "
   ]
  },
  {
   "cell_type": "markdown",
   "metadata": {},
   "source": [
    "Vi får ikke noen output for came_from[(4,4)] siden dette er startnoden (vi kom ikke fra noen node før vi startet her). Hvis vi nå ser på denne \"oppnøstinga\" baklengs, og starter med startnoden, kan vi finne veien fra startnoden til noden vi begynte med:\n",
    "\n",
    "(4,4) -> (3,4) -> (3,5) -> (3,6) -> (2,6) -> (2,7)\n",
    "\n",
    "Dette er en av flere potensielle veier vi kunne ha gått mellom (4,4) og (2,7). Det spesielle med denne veien er at den er den _korteste_ mulige veien. Det viser seg at dette gjelder helt generelt: Når vi bruker bredde-først-søk og nøster oss tilbake til utgangspunktet, gjør vi det via den korteste mulige veien. Prøv gjerne selv med en annen tilfeldig node i grafen over. I tilfeller der det finnes mer enn en korteste vei, vil algoritmen gi en av dem. \n",
    "\n",
    "I innlevering 3 skal du selv implementere en funksjon (\"path_backtrack\") som finner korteste vei, gitt en startnode, en sluttnode og en came_from-dictionary fra tidligere traversering.  \n",
    "\n",
    "Det å finne den korteste veien i en graf med mange mulige veier er veldig nyttig i mange sammenhenger. Når du bruker GPS-navigasjon på telefonen, gjør den noe lignende som det vi gjorde over (verden er representert som en graf), men med litt mer avanserte algoritmer. "
   ]
  },
  {
   "cell_type": "markdown",
   "metadata": {},
   "source": [
    "# Finne tilgjengelige noder  (\"reachable nodes\")\n",
    "## Ikke-sammenhengende grafer\n",
    "I grafene som vi har sett på over, er alle nodene bundet sammen i en enkelt struktur (en \"sammenhengende\" graf), slik at enhver node kan nås fra hvilken som helst annen node. Dette er ikke alltid tilfelle. I noen tilfeller kan man ha to eller flere \"subgrafer\" som ikke henger sammen. Kodesnutten under viser et eksempel på dette:"
   ]
  },
  {
   "cell_type": "code",
   "execution_count": 17,
   "metadata": {},
   "outputs": [
    {
     "data": {
      "image/png": "[encoded data removed]",
      "text/plain": [
       "<Figure size 640x480 with 1 Axes>"
      ]
     },
     "metadata": {},
     "output_type": "display_data"
    }
   ],
   "source": [
    "maze_text = gt.read_maze_text('mazes/maze_disconnected.txt')\n",
    "graph = gt.maze_text_to_graph(maze_text)\n",
    "plt.imshow(gt.maze_text_to_matrix(maze_text))\n",
    "plt.scatter(y=(1,3),x=(1,3),s=100)\n",
    "plt.title('Two disconnected subgraphs')\n",
    "plt.show()"
   ]
  },
  {
   "cell_type": "markdown",
   "metadata": {},
   "source": [
    "I tilfellet over kan vi se at man får to separate \"ganger\" i labyrinten, en til venstre og en til høyre. Nodene i den høyre delen kan ikke nås hvis man starter i den venstre delen. Hvis man for eksempel starter i node (1,1), kan man ikke nå node (3,3)."
   ]
  },
  {
   "cell_type": "markdown",
   "metadata": {},
   "source": [
    "## Rettede grafer\n",
    "Et annet tilfelle der man ikke kan nå alle nodene er i en såkalt \"rettet\" graf. I en slik graf er kantene mellom nodene \"enveiskjørt\". Denne type graf er ikke så lett å visualisere med et rutenett, så vi ser på et eksempel med en klassisk ellipser-og-piler-framstilling: "
   ]
  },
  {
   "cell_type": "code",
   "execution_count": 19,
   "metadata": {},
   "outputs": [
    {
     "data": {
      "image/svg+xml": [
       "<?xml version=\"1.0\" encoding=\"UTF-8\" standalone=\"no\"?>\n",
       "<!DOCTYPE svg PUBLIC \"-//W3C//DTD SVG 1.1//EN\"\n",
       " \"http://www.w3.org/Graphics/SVG/1.1/DTD/svg11.dtd\">\n",
       "<!-- Generated by graphviz version 2.50.0 (0)\n",
       " -->\n",
       "<!-- Pages: 1 -->\n",
       "<svg width=\"252pt\" height=\"404pt\"\n",
       " viewBox=\"0.00 0.00 252.00 404.00\" xmlns=\"http://www.w3.org/2000/svg\" xmlns:xlink=\"http://www.w3.org/1999/xlink\">\n",
       "<g id=\"graph0\" class=\"graph\" transform=\"scale(1 1) rotate(0) translate(4 400)\">\n",
       "<polygon fill=\"white\" stroke=\"transparent\" points=\"-4,4 -4,-400 248,-400 248,4 -4,4\"/>\n",
       "<!-- 1 -->\n",
       "<g id=\"node1\" class=\"node\">\n",
       "<title>1</title>\n",
       "<ellipse fill=\"none\" stroke=\"black\" cx=\"171\" cy=\"-378\" rx=\"27\" ry=\"18\"/>\n",
       "<text text-anchor=\"middle\" x=\"171\" y=\"-374.3\" font-family=\"Times New Roman,serif\" font-size=\"14.00\">1</text>\n",
       "</g>\n",
       "<!-- 2 -->\n",
       "<g id=\"node2\" class=\"node\">\n",
       "<title>2</title>\n",
       "<ellipse fill=\"none\" stroke=\"black\" cx=\"99\" cy=\"-306\" rx=\"27\" ry=\"18\"/>\n",
       "<text text-anchor=\"middle\" x=\"99\" y=\"-302.3\" font-family=\"Times New Roman,serif\" font-size=\"14.00\">2</text>\n",
       "</g>\n",
       "<!-- 1&#45;&gt;2 -->\n",
       "<g id=\"edge1\" class=\"edge\">\n",
       "<title>1&#45;&gt;2</title>\n",
       "<path fill=\"none\" stroke=\"black\" d=\"M156.43,-362.83C146.25,-352.94 132.48,-339.55 120.97,-328.36\"/>\n",
       "<polygon fill=\"black\" stroke=\"black\" points=\"123.41,-325.85 113.8,-321.38 118.53,-330.87 123.41,-325.85\"/>\n",
       "</g>\n",
       "<!-- 3 -->\n",
       "<g id=\"node3\" class=\"node\">\n",
       "<title>3</title>\n",
       "<ellipse fill=\"none\" stroke=\"black\" cx=\"171\" cy=\"-306\" rx=\"27\" ry=\"18\"/>\n",
       "<text text-anchor=\"middle\" x=\"171\" y=\"-302.3\" font-family=\"Times New Roman,serif\" font-size=\"14.00\">3</text>\n",
       "</g>\n",
       "<!-- 1&#45;&gt;3 -->\n",
       "<g id=\"edge2\" class=\"edge\">\n",
       "<title>1&#45;&gt;3</title>\n",
       "<path fill=\"none\" stroke=\"black\" d=\"M171,-359.7C171,-351.98 171,-342.71 171,-334.11\"/>\n",
       "<polygon fill=\"black\" stroke=\"black\" points=\"174.5,-334.1 171,-324.1 167.5,-334.1 174.5,-334.1\"/>\n",
       "</g>\n",
       "<!-- 4 -->\n",
       "<g id=\"node4\" class=\"node\">\n",
       "<title>4</title>\n",
       "<ellipse fill=\"none\" stroke=\"black\" cx=\"217\" cy=\"-234\" rx=\"27\" ry=\"18\"/>\n",
       "<text text-anchor=\"middle\" x=\"217\" y=\"-230.3\" font-family=\"Times New Roman,serif\" font-size=\"14.00\">4</text>\n",
       "</g>\n",
       "<!-- 1&#45;&gt;4 -->\n",
       "<g id=\"edge3\" class=\"edge\">\n",
       "<title>1&#45;&gt;4</title>\n",
       "<path fill=\"none\" stroke=\"black\" d=\"M184.21,-361.89C192.21,-351.85 201.83,-337.98 207,-324 214.32,-304.22 216.69,-280.42 217.3,-262.41\"/>\n",
       "<polygon fill=\"black\" stroke=\"black\" points=\"220.8,-262.35 217.48,-252.29 213.8,-262.23 220.8,-262.35\"/>\n",
       "</g>\n",
       "<!-- 5 -->\n",
       "<g id=\"node5\" class=\"node\">\n",
       "<title>5</title>\n",
       "<ellipse fill=\"none\" stroke=\"black\" cx=\"27\" cy=\"-234\" rx=\"27\" ry=\"18\"/>\n",
       "<text text-anchor=\"middle\" x=\"27\" y=\"-230.3\" font-family=\"Times New Roman,serif\" font-size=\"14.00\">5</text>\n",
       "</g>\n",
       "<!-- 2&#45;&gt;5 -->\n",
       "<g id=\"edge4\" class=\"edge\">\n",
       "<title>2&#45;&gt;5</title>\n",
       "<path fill=\"none\" stroke=\"black\" d=\"M84.43,-290.83C74.25,-280.94 60.48,-267.55 48.97,-256.36\"/>\n",
       "<polygon fill=\"black\" stroke=\"black\" points=\"51.41,-253.85 41.8,-249.38 46.53,-258.87 51.41,-253.85\"/>\n",
       "</g>\n",
       "<!-- 6 -->\n",
       "<g id=\"node6\" class=\"node\">\n",
       "<title>6</title>\n",
       "<ellipse fill=\"none\" stroke=\"black\" cx=\"99\" cy=\"-234\" rx=\"27\" ry=\"18\"/>\n",
       "<text text-anchor=\"middle\" x=\"99\" y=\"-230.3\" font-family=\"Times New Roman,serif\" font-size=\"14.00\">6</text>\n",
       "</g>\n",
       "<!-- 2&#45;&gt;6 -->\n",
       "<g id=\"edge5\" class=\"edge\">\n",
       "<title>2&#45;&gt;6</title>\n",
       "<path fill=\"none\" stroke=\"black\" d=\"M99,-287.7C99,-279.98 99,-270.71 99,-262.11\"/>\n",
       "<polygon fill=\"black\" stroke=\"black\" points=\"102.5,-262.1 99,-252.1 95.5,-262.1 102.5,-262.1\"/>\n",
       "</g>\n",
       "<!-- 7 -->\n",
       "<g id=\"node7\" class=\"node\">\n",
       "<title>7</title>\n",
       "<ellipse fill=\"none\" stroke=\"black\" cx=\"90\" cy=\"-90\" rx=\"27\" ry=\"18\"/>\n",
       "<text text-anchor=\"middle\" x=\"90\" y=\"-86.3\" font-family=\"Times New Roman,serif\" font-size=\"14.00\">7</text>\n",
       "</g>\n",
       "<!-- 2&#45;&gt;7 -->\n",
       "<g id=\"edge6\" class=\"edge\">\n",
       "<title>2&#45;&gt;7</title>\n",
       "<path fill=\"none\" stroke=\"black\" d=\"M112.75,-290.07C120.96,-280.1 130.62,-266.25 135,-252 149.83,-203.78 123.77,-146.8 105.51,-115.2\"/>\n",
       "<polygon fill=\"black\" stroke=\"black\" points=\"108.52,-113.41 100.38,-106.62 102.51,-117 108.52,-113.41\"/>\n",
       "</g>\n",
       "<!-- 3&#45;&gt;4 -->\n",
       "<g id=\"edge7\" class=\"edge\">\n",
       "<title>3&#45;&gt;4</title>\n",
       "<path fill=\"none\" stroke=\"black\" d=\"M181.44,-289.12C187.2,-280.34 194.48,-269.26 200.96,-259.42\"/>\n",
       "<polygon fill=\"black\" stroke=\"black\" points=\"204.04,-261.1 206.6,-250.82 198.19,-257.26 204.04,-261.1\"/>\n",
       "</g>\n",
       "<!-- 8 -->\n",
       "<g id=\"node8\" class=\"node\">\n",
       "<title>8</title>\n",
       "<ellipse fill=\"none\" stroke=\"black\" cx=\"63\" cy=\"-162\" rx=\"27\" ry=\"18\"/>\n",
       "<text text-anchor=\"middle\" x=\"63\" y=\"-158.3\" font-family=\"Times New Roman,serif\" font-size=\"14.00\">8</text>\n",
       "</g>\n",
       "<!-- 5&#45;&gt;8 -->\n",
       "<g id=\"edge8\" class=\"edge\">\n",
       "<title>5&#45;&gt;8</title>\n",
       "<path fill=\"none\" stroke=\"black\" d=\"M35.35,-216.76C39.71,-208.28 45.15,-197.71 50.04,-188.2\"/>\n",
       "<polygon fill=\"black\" stroke=\"black\" points=\"53.23,-189.64 54.7,-179.15 47.01,-186.44 53.23,-189.64\"/>\n",
       "</g>\n",
       "<!-- 9 -->\n",
       "<g id=\"node9\" class=\"node\">\n",
       "<title>9</title>\n",
       "<ellipse fill=\"none\" stroke=\"black\" cx=\"90\" cy=\"-18\" rx=\"27\" ry=\"18\"/>\n",
       "<text text-anchor=\"middle\" x=\"90\" y=\"-14.3\" font-family=\"Times New Roman,serif\" font-size=\"14.00\">9</text>\n",
       "</g>\n",
       "<!-- 7&#45;&gt;9 -->\n",
       "<g id=\"edge9\" class=\"edge\">\n",
       "<title>7&#45;&gt;9</title>\n",
       "<path fill=\"none\" stroke=\"black\" d=\"M90,-71.7C90,-63.98 90,-54.71 90,-46.11\"/>\n",
       "<polygon fill=\"black\" stroke=\"black\" points=\"93.5,-46.1 90,-36.1 86.5,-46.1 93.5,-46.1\"/>\n",
       "</g>\n",
       "<!-- 8&#45;&gt;7 -->\n",
       "<g id=\"edge10\" class=\"edge\">\n",
       "<title>8&#45;&gt;7</title>\n",
       "<path fill=\"none\" stroke=\"black\" d=\"M69.4,-144.41C72.51,-136.34 76.33,-126.43 79.83,-117.35\"/>\n",
       "<polygon fill=\"black\" stroke=\"black\" points=\"83.13,-118.55 83.46,-107.96 76.6,-116.03 83.13,-118.55\"/>\n",
       "</g>\n",
       "</g>\n",
       "</svg>\n"
      ],
      "text/plain": [
       "<graphviz.graphs.Digraph at 0x1847f351540>"
      ]
     },
     "execution_count": 19,
     "metadata": {},
     "output_type": "execute_result"
    }
   ],
   "source": [
    "graph = {1:[2,3,4],2:[5,6,7],3:[4],4:[],5:[8],6:[],7:[9],8:[7],9:[]}\n",
    "graph_dot = dict_to_dot(graph,directed=True)\n",
    "graph_dot"
   ]
  },
  {
   "cell_type": "markdown",
   "metadata": {},
   "source": [
    "Hvis man starter i node 1 i grafen over, kan man nå hvilken som helst av de andre nodene - men hvis man for eksempel starter i node 5 kan man kun nå node 5, 8, 7 og 9. "
   ]
  },
  {
   "cell_type": "markdown",
   "metadata": {},
   "source": [
    "## Metode for å finne tilgjengelige noder\n",
    "Vi kan bruke bredde-først traversering for å finne ut hvilke noder som er tilgjengelige fra en gitt startnode. En slik traversering vil \"bre seg ut\" inntil den har nådd alle nodene som er tilgjengelige. Utilgjengelige noder vil aldri bli del av traverseringen, selv om de er del av grafen. \n",
    "\n",
    "I innleveringen skal dere lage en funksjon som returnerer et sett med alle nodene som er tilgjengelige. Kodesnutten under illustrerer hvordan denne funksjonen brukes på de to eksempel-grafene over.  "
   ]
  },
  {
   "cell_type": "code",
   "execution_count": 20,
   "metadata": {},
   "outputs": [
    {
     "name": "stdout",
     "output_type": "stream",
     "text": [
      "Nodes reachable from node (1,1): {(3, 1), (1, 1), (1, 2), (2, 1)}\n"
     ]
    }
   ],
   "source": [
    "maze_graph = gt.maze_text_to_graph(gt.read_maze_text('mazes/maze_disconnected.txt'))\n",
    "reachable_nodes_1_1 = gs.get_reachable_nodes(maze_graph,(1,1))\n",
    "print(f'Nodes reachable from node (1,1): {reachable_nodes_1_1}')"
   ]
  },
  {
   "cell_type": "code",
   "execution_count": 21,
   "metadata": {},
   "outputs": [
    {
     "name": "stdout",
     "output_type": "stream",
     "text": [
      "Nodes reachable from node 1: {1, 2, 3, 4, 5, 6, 7, 8, 9}\n",
      "Nodes reachable from node 5: {8, 9, 5, 7}\n"
     ]
    }
   ],
   "source": [
    "directed_graph = {1:[2,3,4],2:[5,6,7],3:[4],4:[],5:[8],6:[],7:[9],8:[7],9:[]}\n",
    "reachable_nodes_1 = gs.get_reachable_nodes(directed_graph,1)\n",
    "reachable_nodes_5 = gs.get_reachable_nodes(directed_graph,5)\n",
    "print(f'Nodes reachable from node 1: {reachable_nodes_1}')\n",
    "print(f'Nodes reachable from node 5: {reachable_nodes_5}')"
   ]
  },
  {
   "cell_type": "markdown",
   "metadata": {},
   "source": [
    "# Bredde-først søk\n",
    "Med bredde-først traversering oppdager vi strukturen til grafen, og vi kan finne korteste vei fra startnoden til hvilken som helst annen node. La oss nå anta at vi ikke er interessert i alle nodene - vi er kun interessert i korteste vei fra startnoden til en enkelt sluttnode. Da kan vi gjøre en liten modifikasjon på koden vi brukte over - vi begynner med å traversere grafen på samme måte, men når vi har behandlet sluttnoden, stopper vi (såkalt \"early stopping\"). Dette har fordelen at vi slipper å bruke tid og ressurser på å besøke noder vi ikke er interesserte i. \n",
    "\n",
    "Vi kaller denne metoden bredde-først _søk_, for å skille den fra traversering, som vi gjorde over. \n",
    "\n",
    "    breadth_first_traverse(graph,start_node):\n",
    "        let frontier equal a new queue\n",
    "        let came_from equal a new dict\n",
    "        \n",
    "        enqueue start_node to frontier\n",
    "        set came_from for start_node to None\n",
    "        \n",
    "        while frontier is not empty:\n",
    "            dequeue a node from frontier and let it equal current_node\n",
    "            if current_node is the end_node:\n",
    "                break while loop\n",
    "            for every neighbor of current_node in graph:\n",
    "                if the neighbor has not been discovered (not yet present in came_from):\n",
    "                    enqueue the neighbor to frontier\n",
    "                    update came_from: set neighbor as key and current_node as value\n",
    "        \n",
    "        if end_node was found:\n",
    "            let shortest_path equal a new list\n",
    "            construct the shortest path from start_node to end_node, and save it to shortest_path\n",
    "        else:\n",
    "            set shortest_path to None\n",
    "        \n",
    "        return came_from and shortest_path\n",
    "\n",
    "Koden over returnerer came_from, som inneholder oversikten over hvilke noder som har blitt oppdaget, og hvilke noder de ble oppdaget fra. Dette er ikke egentlig nødvendig for funksjonaliteten, men det gjør det mulig å illustrere forskjellen mellom traversering og søk (se under). \n",
    "\n",
    "I pseudokoden stopper vi først når end_node \"poppes\" fra køen. Egentlig kunne vi ha stoppet allerede første gang noden ble oppdaget (da den ble lagt inn i køen). Likevel bruker vi koden over, fordi denne koden da blir svært lik koden som brukes for _vektede_ grafer (som kommer i innlevering 4)."
   ]
  },
  {
   "cell_type": "code",
   "execution_count": 22,
   "metadata": {},
   "outputs": [
    {
     "data": {
      "image/png": "[encoded data removed]",
      "text/plain": [
       "<Figure size 1200x800 with 2 Axes>"
      ]
     },
     "metadata": {},
     "output_type": "display_data"
    }
   ],
   "source": [
    "# Load maze, define start and end\n",
    "maze_text = gt.read_maze_text('mazes/maze_10x10.txt')\n",
    "graph = gt.maze_text_to_graph(maze_text)\n",
    "grid = gt.maze_text_to_matrix(maze_text)\n",
    "start_node = (4,4)\n",
    "end_node = (2,7)\n",
    "\n",
    "# Traverse\n",
    "came_from_bft = gs.breadth_first_traverse(graph,start_node) \n",
    "path_bft = gs.path_backtrack(start_node,end_node,came_from)\n",
    "visited_bft = [node for node in came_from_bft]\n",
    "visited_bft.insert(0,start_node)\n",
    "\n",
    "# Search\n",
    "visited_bfs,path_bfs = gs.breadth_first_search(graph,start_node,end_node)\n",
    "\n",
    "# Plot and compare\n",
    "fig,ax = plt.subplots(ncols=2,nrows=1,figsize=(12,8))\n",
    "plt.sca(ax[0])\n",
    "plt.imshow(grid)\n",
    "gt.plot_path(path_bft)\n",
    "gt.plot_visited(visited_bft)\n",
    "plt.title('Full graph traversal')\n",
    "\n",
    "plt.sca(ax[1])\n",
    "plt.imshow(grid)\n",
    "gt.plot_path(path_bfs)\n",
    "gt.plot_visited(visited_bfs)\n",
    "plt.title(f'Graph search, end node {end_node}')\n",
    "\n",
    "plt.show()"
   ]
  },
  {
   "cell_type": "markdown",
   "metadata": {},
   "source": [
    "I rutenettene over kan vi se hvordan trverserings- og søkealgoritmen begge finner samme korteste vei, men at søkealgoritmen kun besøker rundt halvparten av nodene. "
   ]
  },
  {
   "cell_type": "markdown",
   "metadata": {},
   "source": [
    "# Demonstrasjon med søk i større graf (labyrint)\n",
    "Helt til slutt kan vi teste søkealgoritmen vår på en stor labyrint (100x100 piksler). Vi \"fargelegger\" labyrinten slik:\n",
    "- Mørk blå: Vegger\n",
    "- Lys blå: Noder som ikke har blitt besøkt\n",
    "- Grønn: Noder som har blitt besøkt\n",
    "- Gul: Korteste vei fra start til slutt"
   ]
  },
  {
   "cell_type": "code",
   "execution_count": 23,
   "metadata": {},
   "outputs": [
    {
     "data": {
      "image/png": "[encoded data removed]",
      "text/plain": [
       "<Figure size 640x480 with 1 Axes>"
      ]
     },
     "metadata": {},
     "output_type": "display_data"
    }
   ],
   "source": [
    "maze_text = gt.read_maze_text('mazes/maze_100x100.txt')\n",
    "start_node = (1,1)\n",
    "end_node = (99,99)\n",
    "graph = gt.maze_text_to_graph(maze_text)\n",
    "grid = gt.maze_text_to_matrix(maze_text)\n",
    "\n",
    "came_from,path = gs.breadth_first_search(graph,start_node,end_node)\n",
    "for y,x in came_from:\n",
    "    grid[y,x] = 2\n",
    "for y,x in path:\n",
    "    grid[y,x] = 3\n",
    "plt.imshow(grid)\n",
    "plt.show()\n"
   ]
  },
  {
   "cell_type": "markdown",
   "metadata": {},
   "source": [
    "Vi kan se at nesten hele labyrinten er grønn, dvs. at nesten alle nodene har blitt oppdaget. Den finnes to mindre blå områder med noder som ikke er oppdaget; disse er noder som har så stor avstand til startnoden at algoritmen ikke \"rakk\" å utforske dem før den fant sluttnoden."
   ]
  },
  {
   "cell_type": "markdown",
   "metadata": {},
   "source": [
    "# Oppgaver\n",
    "1. Implementer bredde-først traversering\n",
    "2. Implementer \"backtracking\" basert på came_from for å konstruere korteste vei fra start- til slutt-node\n",
    "3. Implementer en funksjon som returnerer hvilke noder som er innen rekkevidde fra en gitt startnode\n",
    "4. Implementer bredde-først søk, som stopper traversering av grafen når en sluttnode er funnet. \n",
    "\n",
    "Detaljene for hver funksjon er oppgitt i dokumentasjonen som dere finner i fila graph_search.py ."
   ]
  },
  {
   "cell_type": "markdown",
   "metadata": {},
   "source": []
  }
 ],
 "metadata": {
  "kernelspec": {
   "display_name": "intro-ml-ai",
   "language": "python",
   "name": "python3"
  },
  "language_info": {
   "codemirror_mode": {
    "name": "ipython",
    "version": 3
   },
   "file_extension": ".py",
   "mimetype": "text/x-python",
   "name": "python",
   "nbconvert_exporter": "python",
   "pygments_lexer": "ipython3",
   "version": "3.10.12"
  },
  "orig_nbformat": 4
 },
 "nbformat": 4,
 "nbformat_minor": 2
}
